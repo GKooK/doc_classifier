{
 "cells": [
  {
   "cell_type": "code",
   "execution_count": 8,
   "metadata": {},
   "outputs": [],
   "source": [
    "import pandas as pd\n",
    "import os,sys\n",
    "import numpy as np"
   ]
  },
  {
   "cell_type": "code",
   "execution_count": 10,
   "metadata": {},
   "outputs": [],
   "source": [
    "#data = pd.read_csv('C:\\\\Users\\\\gkook\\\\Desktop\\\\school\\\\2023s\\\\nlp\\\\assignment1\\\\10288320.txt', sep='\\t')\n",
    "f = open('10288320.txt','r')\n",
    "data = f.readlines()"
   ]
  },
  {
   "cell_type": "code",
   "execution_count": 15,
   "metadata": {},
   "outputs": [
    {
     "data": {
      "text/plain": [
       "['link', 'headline', 'category', 'short_description', 'authors', 'date\\n']"
      ]
     },
     "execution_count": 15,
     "metadata": {},
     "output_type": "execute_result"
    }
   ],
   "source": [
    "data[0].split('\\t')"
   ]
  },
  {
   "cell_type": "code",
   "execution_count": 29,
   "metadata": {},
   "outputs": [
    {
     "name": "stdout",
     "output_type": "stream",
     "text": [
      "72039\n",
      "173597\n",
      "245636\n",
      "245636\n"
     ]
    }
   ],
   "source": [
    "default = len(data[0].split('\\t'))\n",
    "\n",
    "count = 0\n",
    "correct_count = 0\n",
    "correct_str =''\n",
    "nf = open('10288320_anomaly_rm.txt', 'a')\n",
    "for i in data:\n",
    "    if(len(i.split('\\t')) != default):\n",
    "        sample = i\n",
    "        count += 1\n",
    "    elif(len(i.split('\\t')) == default):\n",
    "        nf.write(i)\n",
    "        correct_count += 1\n",
    "\n",
    "nf.close()\n",
    "\n",
    "print(count)\n",
    "print(correct_count)\n",
    "print(count + correct_count)\n",
    "print(len(data))"
   ]
  }
 ],
 "metadata": {
  "kernelspec": {
   "display_name": "base",
   "language": "python",
   "name": "python3"
  },
  "language_info": {
   "codemirror_mode": {
    "name": "ipython",
    "version": 3
   },
   "file_extension": ".py",
   "mimetype": "text/x-python",
   "name": "python",
   "nbconvert_exporter": "python",
   "pygments_lexer": "ipython3",
   "version": "3.9.12"
  },
  "orig_nbformat": 4
 },
 "nbformat": 4,
 "nbformat_minor": 2
}
